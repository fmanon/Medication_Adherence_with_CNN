{
 "cells": [
  {
   "cell_type": "markdown",
   "metadata": {},
   "source": [
    "# 01. Download Setup"
   ]
  },
  {
   "cell_type": "markdown",
   "metadata": {},
   "source": [
    "The U.S. National Library of Medicine has a collection of pill images as part of a project that was discontinued in 2018.  This collection consisted of over 137,000 pill images, split between reference pill images and consumer-grade pill images.\n",
    "\n",
    "The 4,000+ reference pill images were taken in a controlled setting, across multiple resolutions.  This collection of images is downloadable as a 6.8GB zip file ([link](https://www.nlm.nih.gov/databases/download/pill_image.html)).  We will use the reference pill images as our training data.\n",
    "\n",
    "The consumer-grade pill images will be used as our testing data, given that we ultimately want to properly identify the pills on images provided by consumers, in real world settings.  Acquiring said testing data, however, is a different story.  The consumer-grade pill images are stored on an FTP site ([link](ftp://lhcftp.nlm.nih.gov/Open-Access-Datasets/Pills/)) and can only be downloaded one-by-one.  Given that there are over 133,000 images in total, that would be next to impossible to acquire manually, given the time constrains.\n",
    "\n",
    "In this case, we will leverage a directory of all consumer-grade images (originally downloaded as an `.xlsx` file and converted to a `.csv` file) as well as the `webbrowser` library in order to download each file locally.\n",
    "\n",
    "This notebook will make adjustments to said `.csv` file and save it down for other notebooks to properly access the file and download the respective images."
   ]
  },
  {
   "cell_type": "markdown",
   "metadata": {},
   "source": [
    "---\n",
    "## Table of Contents"
   ]
  },
  {
   "cell_type": "markdown",
   "metadata": {},
   "source": [
    "- [01. Importing Libraries](#01.-Importing-Libraries)\n",
    "- [02. Quick EDA](#02.-Quick-EDA)\n",
    "- [03. Amending Directory](#03.-Amending-Directory)\n",
    "- [04. Saving Down Changes](#04.-Saving-Down-Changes)"
   ]
  },
  {
   "cell_type": "markdown",
   "metadata": {},
   "source": [
    "---\n",
    "### 01. Importing Libraries"
   ]
  },
  {
   "cell_type": "markdown",
   "metadata": {},
   "source": [
    "We only need a single library for what this notebook will accomplish: `pandas`.  `pandas` will be used to read-in and ammend the csv file needed for future notebooks."
   ]
  },
  {
   "cell_type": "code",
   "execution_count": 1,
   "metadata": {},
   "outputs": [],
   "source": [
    "import pandas as pd"
   ]
  },
  {
   "cell_type": "markdown",
   "metadata": {},
   "source": [
    "---\n",
    "### 02. Quick EDA"
   ]
  },
  {
   "cell_type": "markdown",
   "metadata": {},
   "source": [
    "For this section, we will read-in the csv file and check to see if there are any missing values, what the data looks like, and so on."
   ]
  },
  {
   "cell_type": "code",
   "execution_count": 2,
   "metadata": {},
   "outputs": [
    {
     "data": {
      "text/html": [
       "<div>\n",
       "<style scoped>\n",
       "    .dataframe tbody tr th:only-of-type {\n",
       "        vertical-align: middle;\n",
       "    }\n",
       "\n",
       "    .dataframe tbody tr th {\n",
       "        vertical-align: top;\n",
       "    }\n",
       "\n",
       "    .dataframe thead th {\n",
       "        text-align: right;\n",
       "    }\n",
       "</style>\n",
       "<table border=\"1\" class=\"dataframe\">\n",
       "  <thead>\n",
       "    <tr style=\"text-align: right;\">\n",
       "      <th></th>\n",
       "      <th>NDC11</th>\n",
       "      <th>Part</th>\n",
       "      <th>Image</th>\n",
       "      <th>Layout</th>\n",
       "      <th>Name</th>\n",
       "    </tr>\n",
       "  </thead>\n",
       "  <tbody>\n",
       "    <tr>\n",
       "      <td>0</td>\n",
       "      <td>2322730</td>\n",
       "      <td>1</td>\n",
       "      <td>PillProjectDisc69/images/CLLLLUPGIX7J8MP1WWQ9W...</td>\n",
       "      <td>C3PI_Reference</td>\n",
       "      <td>STRATTERA 10MG</td>\n",
       "    </tr>\n",
       "    <tr>\n",
       "      <td>1</td>\n",
       "      <td>2322730</td>\n",
       "      <td>1</td>\n",
       "      <td>PillProjectDisc98/images/PRNJ-AXZIQ!HUQKJJBP_D...</td>\n",
       "      <td>C3PI_Reference</td>\n",
       "      <td>STRATTERA 10MG</td>\n",
       "    </tr>\n",
       "    <tr>\n",
       "      <td>2</td>\n",
       "      <td>2322730</td>\n",
       "      <td>1</td>\n",
       "      <td>PillProjectDisc10/images/79U-YY6M1UUR6F127ZMAC...</td>\n",
       "      <td>C3PI_Test</td>\n",
       "      <td>STRATTERA 10MG</td>\n",
       "    </tr>\n",
       "    <tr>\n",
       "      <td>3</td>\n",
       "      <td>2322730</td>\n",
       "      <td>1</td>\n",
       "      <td>PillProjectDisc11/images/7WVFV5H74!ELFNQ_GUH92...</td>\n",
       "      <td>C3PI_Test</td>\n",
       "      <td>STRATTERA 10MG</td>\n",
       "    </tr>\n",
       "    <tr>\n",
       "      <td>4</td>\n",
       "      <td>2322730</td>\n",
       "      <td>1</td>\n",
       "      <td>PillProjectDisc20/images/B4CH0R9B7PEQ6GORRX-8X...</td>\n",
       "      <td>C3PI_Test</td>\n",
       "      <td>STRATTERA 10MG</td>\n",
       "    </tr>\n",
       "  </tbody>\n",
       "</table>\n",
       "</div>"
      ],
      "text/plain": [
       "     NDC11  Part                                              Image  \\\n",
       "0  2322730     1  PillProjectDisc69/images/CLLLLUPGIX7J8MP1WWQ9W...   \n",
       "1  2322730     1  PillProjectDisc98/images/PRNJ-AXZIQ!HUQKJJBP_D...   \n",
       "2  2322730     1  PillProjectDisc10/images/79U-YY6M1UUR6F127ZMAC...   \n",
       "3  2322730     1  PillProjectDisc11/images/7WVFV5H74!ELFNQ_GUH92...   \n",
       "4  2322730     1  PillProjectDisc20/images/B4CH0R9B7PEQ6GORRX-8X...   \n",
       "\n",
       "           Layout            Name  \n",
       "0  C3PI_Reference  STRATTERA 10MG  \n",
       "1  C3PI_Reference  STRATTERA 10MG  \n",
       "2       C3PI_Test  STRATTERA 10MG  \n",
       "3       C3PI_Test  STRATTERA 10MG  \n",
       "4       C3PI_Test  STRATTERA 10MG  "
      ]
     },
     "execution_count": 2,
     "metadata": {},
     "output_type": "execute_result"
    }
   ],
   "source": [
    "# Read-in csv file\n",
    "consumer = pd.read_csv('../data/directory_consumer_grade_images.csv')\n",
    "\n",
    "# Take a look at the top 5 rows\n",
    "consumer.head()"
   ]
  },
  {
   "cell_type": "code",
   "execution_count": 3,
   "metadata": {},
   "outputs": [
    {
     "data": {
      "text/plain": [
       "133774"
      ]
     },
     "execution_count": 3,
     "metadata": {},
     "output_type": "execute_result"
    }
   ],
   "source": [
    "# Look at the total amount of rows (total image count)\n",
    "consumer.shape[0]"
   ]
  },
  {
   "cell_type": "code",
   "execution_count": 4,
   "metadata": {},
   "outputs": [
    {
     "data": {
      "text/plain": [
       "3010"
      ]
     },
     "execution_count": 4,
     "metadata": {},
     "output_type": "execute_result"
    }
   ],
   "source": [
    "# Grouping the images by their respective medications to see how many medications there are total\n",
    "consumer.groupby(consumer['Name']).count().shape[0]"
   ]
  },
  {
   "cell_type": "markdown",
   "metadata": {},
   "source": [
    "This directory lists a total of 133,774 images across 3,010 different types of medications that we can potentially download.  For the sake of convenience, we will only pull `.jpg` files as they are easier to work with.  We will filter out for the respective files and save it as a new dataframe."
   ]
  },
  {
   "cell_type": "code",
   "execution_count": 5,
   "metadata": {},
   "outputs": [
    {
     "data": {
      "text/html": [
       "<div>\n",
       "<style scoped>\n",
       "    .dataframe tbody tr th:only-of-type {\n",
       "        vertical-align: middle;\n",
       "    }\n",
       "\n",
       "    .dataframe tbody tr th {\n",
       "        vertical-align: top;\n",
       "    }\n",
       "\n",
       "    .dataframe thead th {\n",
       "        text-align: right;\n",
       "    }\n",
       "</style>\n",
       "<table border=\"1\" class=\"dataframe\">\n",
       "  <thead>\n",
       "    <tr style=\"text-align: right;\">\n",
       "      <th></th>\n",
       "      <th>NDC11</th>\n",
       "      <th>Part</th>\n",
       "      <th>Image</th>\n",
       "      <th>Layout</th>\n",
       "      <th>Name</th>\n",
       "    </tr>\n",
       "  </thead>\n",
       "  <tbody>\n",
       "    <tr>\n",
       "      <td>2</td>\n",
       "      <td>2322730</td>\n",
       "      <td>1</td>\n",
       "      <td>PillProjectDisc10/images/79U-YY6M1UUR6F127ZMAC...</td>\n",
       "      <td>C3PI_Test</td>\n",
       "      <td>STRATTERA 10MG</td>\n",
       "    </tr>\n",
       "    <tr>\n",
       "      <td>3</td>\n",
       "      <td>2322730</td>\n",
       "      <td>1</td>\n",
       "      <td>PillProjectDisc11/images/7WVFV5H74!ELFNQ_GUH92...</td>\n",
       "      <td>C3PI_Test</td>\n",
       "      <td>STRATTERA 10MG</td>\n",
       "    </tr>\n",
       "    <tr>\n",
       "      <td>4</td>\n",
       "      <td>2322730</td>\n",
       "      <td>1</td>\n",
       "      <td>PillProjectDisc20/images/B4CH0R9B7PEQ6GORRX-8X...</td>\n",
       "      <td>C3PI_Test</td>\n",
       "      <td>STRATTERA 10MG</td>\n",
       "    </tr>\n",
       "    <tr>\n",
       "      <td>5</td>\n",
       "      <td>2322730</td>\n",
       "      <td>1</td>\n",
       "      <td>PillProjectDisc21/images/B5T5HI5XI8X2HSBJL-TGD...</td>\n",
       "      <td>C3PI_Test</td>\n",
       "      <td>STRATTERA 10MG</td>\n",
       "    </tr>\n",
       "    <tr>\n",
       "      <td>6</td>\n",
       "      <td>2322730</td>\n",
       "      <td>1</td>\n",
       "      <td>PillProjectDisc25/images/B8S621VZTSXR4Z4VRHYLT...</td>\n",
       "      <td>C3PI_Test</td>\n",
       "      <td>STRATTERA 10MG</td>\n",
       "    </tr>\n",
       "  </tbody>\n",
       "</table>\n",
       "</div>"
      ],
      "text/plain": [
       "     NDC11  Part                                              Image  \\\n",
       "2  2322730     1  PillProjectDisc10/images/79U-YY6M1UUR6F127ZMAC...   \n",
       "3  2322730     1  PillProjectDisc11/images/7WVFV5H74!ELFNQ_GUH92...   \n",
       "4  2322730     1  PillProjectDisc20/images/B4CH0R9B7PEQ6GORRX-8X...   \n",
       "5  2322730     1  PillProjectDisc21/images/B5T5HI5XI8X2HSBJL-TGD...   \n",
       "6  2322730     1  PillProjectDisc25/images/B8S621VZTSXR4Z4VRHYLT...   \n",
       "\n",
       "      Layout            Name  \n",
       "2  C3PI_Test  STRATTERA 10MG  \n",
       "3  C3PI_Test  STRATTERA 10MG  \n",
       "4  C3PI_Test  STRATTERA 10MG  \n",
       "5  C3PI_Test  STRATTERA 10MG  \n",
       "6  C3PI_Test  STRATTERA 10MG  "
      ]
     },
     "execution_count": 5,
     "metadata": {},
     "output_type": "execute_result"
    }
   ],
   "source": [
    "# Create a new dataframe with only the jpeg images\n",
    "consumer_lookup = consumer[consumer['Image'].str[-4:] == '.JPG']\n",
    "consumer_lookup.head()"
   ]
  },
  {
   "cell_type": "code",
   "execution_count": 6,
   "metadata": {},
   "outputs": [],
   "source": [
    "# Resetting the index\n",
    "consumer_lookup.reset_index(inplace = True)"
   ]
  },
  {
   "cell_type": "code",
   "execution_count": 7,
   "metadata": {},
   "outputs": [
    {
     "name": "stderr",
     "output_type": "stream",
     "text": [
      "C:\\Users\\Fausto\\Anaconda3\\lib\\site-packages\\pandas\\core\\frame.py:4102: SettingWithCopyWarning: \n",
      "A value is trying to be set on a copy of a slice from a DataFrame\n",
      "\n",
      "See the caveats in the documentation: http://pandas.pydata.org/pandas-docs/stable/user_guide/indexing.html#returning-a-view-versus-a-copy\n",
      "  errors=errors,\n"
     ]
    }
   ],
   "source": [
    "# Removing unnecessary columns\n",
    "consumer_lookup.drop(columns = ['index', 'NDC11', 'Part', 'Layout'], inplace = True)"
   ]
  },
  {
   "cell_type": "code",
   "execution_count": 8,
   "metadata": {},
   "outputs": [
    {
     "data": {
      "text/html": [
       "<div>\n",
       "<style scoped>\n",
       "    .dataframe tbody tr th:only-of-type {\n",
       "        vertical-align: middle;\n",
       "    }\n",
       "\n",
       "    .dataframe tbody tr th {\n",
       "        vertical-align: top;\n",
       "    }\n",
       "\n",
       "    .dataframe thead th {\n",
       "        text-align: right;\n",
       "    }\n",
       "</style>\n",
       "<table border=\"1\" class=\"dataframe\">\n",
       "  <thead>\n",
       "    <tr style=\"text-align: right;\">\n",
       "      <th></th>\n",
       "      <th>Image</th>\n",
       "      <th>Name</th>\n",
       "    </tr>\n",
       "  </thead>\n",
       "  <tbody>\n",
       "    <tr>\n",
       "      <td>0</td>\n",
       "      <td>PillProjectDisc10/images/79U-YY6M1UUR6F127ZMAC...</td>\n",
       "      <td>STRATTERA 10MG</td>\n",
       "    </tr>\n",
       "    <tr>\n",
       "      <td>1</td>\n",
       "      <td>PillProjectDisc11/images/7WVFV5H74!ELFNQ_GUH92...</td>\n",
       "      <td>STRATTERA 10MG</td>\n",
       "    </tr>\n",
       "    <tr>\n",
       "      <td>2</td>\n",
       "      <td>PillProjectDisc20/images/B4CH0R9B7PEQ6GORRX-8X...</td>\n",
       "      <td>STRATTERA 10MG</td>\n",
       "    </tr>\n",
       "    <tr>\n",
       "      <td>3</td>\n",
       "      <td>PillProjectDisc21/images/B5T5HI5XI8X2HSBJL-TGD...</td>\n",
       "      <td>STRATTERA 10MG</td>\n",
       "    </tr>\n",
       "    <tr>\n",
       "      <td>4</td>\n",
       "      <td>PillProjectDisc25/images/B8S621VZTSXR4Z4VRHYLT...</td>\n",
       "      <td>STRATTERA 10MG</td>\n",
       "    </tr>\n",
       "  </tbody>\n",
       "</table>\n",
       "</div>"
      ],
      "text/plain": [
       "                                               Image            Name\n",
       "0  PillProjectDisc10/images/79U-YY6M1UUR6F127ZMAC...  STRATTERA 10MG\n",
       "1  PillProjectDisc11/images/7WVFV5H74!ELFNQ_GUH92...  STRATTERA 10MG\n",
       "2  PillProjectDisc20/images/B4CH0R9B7PEQ6GORRX-8X...  STRATTERA 10MG\n",
       "3  PillProjectDisc21/images/B5T5HI5XI8X2HSBJL-TGD...  STRATTERA 10MG\n",
       "4  PillProjectDisc25/images/B8S621VZTSXR4Z4VRHYLT...  STRATTERA 10MG"
      ]
     },
     "execution_count": 8,
     "metadata": {},
     "output_type": "execute_result"
    }
   ],
   "source": [
    "consumer_lookup.head()"
   ]
  },
  {
   "cell_type": "code",
   "execution_count": 9,
   "metadata": {},
   "outputs": [
    {
     "data": {
      "text/plain": [
       "Image    0\n",
       "Name     0\n",
       "dtype: int64"
      ]
     },
     "execution_count": 9,
     "metadata": {},
     "output_type": "execute_result"
    }
   ],
   "source": [
    "# Checking for null values\n",
    "consumer_lookup.isna().sum()"
   ]
  },
  {
   "cell_type": "code",
   "execution_count": 10,
   "metadata": {},
   "outputs": [
    {
     "data": {
      "text/html": [
       "<div>\n",
       "<style scoped>\n",
       "    .dataframe tbody tr th:only-of-type {\n",
       "        vertical-align: middle;\n",
       "    }\n",
       "\n",
       "    .dataframe tbody tr th {\n",
       "        vertical-align: top;\n",
       "    }\n",
       "\n",
       "    .dataframe thead th {\n",
       "        text-align: right;\n",
       "    }\n",
       "</style>\n",
       "<table border=\"1\" class=\"dataframe\">\n",
       "  <thead>\n",
       "    <tr style=\"text-align: right;\">\n",
       "      <th></th>\n",
       "      <th>Image</th>\n",
       "    </tr>\n",
       "    <tr>\n",
       "      <th>Name</th>\n",
       "      <th></th>\n",
       "    </tr>\n",
       "  </thead>\n",
       "  <tbody>\n",
       "    <tr>\n",
       "      <td>ABACAVIR and LAMIVUDINE Tablets USP</td>\n",
       "      <td>3</td>\n",
       "    </tr>\n",
       "    <tr>\n",
       "      <td>ABILIFY 15MG YELLOW TABS</td>\n",
       "      <td>18</td>\n",
       "    </tr>\n",
       "    <tr>\n",
       "      <td>ABILIFY 20MG WHITE TABS</td>\n",
       "      <td>18</td>\n",
       "    </tr>\n",
       "    <tr>\n",
       "      <td>ABILIFY 2MG GREEN TABS</td>\n",
       "      <td>16</td>\n",
       "    </tr>\n",
       "    <tr>\n",
       "      <td>ABILIFY 30MG PINK ROUND TABS</td>\n",
       "      <td>18</td>\n",
       "    </tr>\n",
       "  </tbody>\n",
       "</table>\n",
       "</div>"
      ],
      "text/plain": [
       "                                     Image\n",
       "Name                                      \n",
       "ABACAVIR and LAMIVUDINE Tablets USP      3\n",
       "ABILIFY 15MG YELLOW TABS                18\n",
       "ABILIFY 20MG WHITE TABS                 18\n",
       "ABILIFY 2MG GREEN TABS                  16\n",
       "ABILIFY 30MG PINK ROUND TABS            18"
      ]
     },
     "execution_count": 10,
     "metadata": {},
     "output_type": "execute_result"
    }
   ],
   "source": [
    "# Looking at how many jpg images there are for each pill\n",
    "consumer_lookup.groupby(consumer_lookup['Name']).count().head()"
   ]
  },
  {
   "cell_type": "markdown",
   "metadata": {},
   "source": [
    "It seems that a single medication has multiple pictures."
   ]
  },
  {
   "cell_type": "code",
   "execution_count": 11,
   "metadata": {},
   "outputs": [
    {
     "data": {
      "text/plain": [
       "59414"
      ]
     },
     "execution_count": 11,
     "metadata": {},
     "output_type": "execute_result"
    }
   ],
   "source": [
    "# Looking at total rows / images in new dataframe\n",
    "consumer_lookup.shape[0]"
   ]
  },
  {
   "cell_type": "markdown",
   "metadata": {},
   "source": [
    "Given that all listed medications have multiple file types, including jpeg, we want to check that the new `consumer_lookup` dataframe maintains the same amount of medications as the original `consumer` dataframe, which is 3,010."
   ]
  },
  {
   "cell_type": "code",
   "execution_count": 12,
   "metadata": {},
   "outputs": [
    {
     "data": {
      "text/plain": [
       "3009"
      ]
     },
     "execution_count": 12,
     "metadata": {},
     "output_type": "execute_result"
    }
   ],
   "source": [
    "# Looking at the total amount of medications in the dataframe\n",
    "consumer_lookup.groupby(consumer_lookup['Name']).count().shape[0]"
   ]
  },
  {
   "cell_type": "markdown",
   "metadata": {},
   "source": [
    "It looks like we lost 1 medication.  So we can expect a total of 59,414 images across 3,009 types of medications to download.  As we also noted above, each medication also ha multiple images - so we have a good amount of potential training data to work with."
   ]
  },
  {
   "cell_type": "markdown",
   "metadata": {},
   "source": [
    "---\n",
    "### 03. Amending Directory"
   ]
  },
  {
   "cell_type": "markdown",
   "metadata": {},
   "source": [
    "In this section, we look to add an extra column (and remove unnecessary ones after) that will point us to the download link for each image referenced in the `Image` column of the `consumer_lookup` directory."
   ]
  },
  {
   "cell_type": "code",
   "execution_count": 13,
   "metadata": {},
   "outputs": [
    {
     "data": {
      "text/html": [
       "<div>\n",
       "<style scoped>\n",
       "    .dataframe tbody tr th:only-of-type {\n",
       "        vertical-align: middle;\n",
       "    }\n",
       "\n",
       "    .dataframe tbody tr th {\n",
       "        vertical-align: top;\n",
       "    }\n",
       "\n",
       "    .dataframe thead th {\n",
       "        text-align: right;\n",
       "    }\n",
       "</style>\n",
       "<table border=\"1\" class=\"dataframe\">\n",
       "  <thead>\n",
       "    <tr style=\"text-align: right;\">\n",
       "      <th></th>\n",
       "      <th>Image</th>\n",
       "      <th>Name</th>\n",
       "    </tr>\n",
       "  </thead>\n",
       "  <tbody>\n",
       "    <tr>\n",
       "      <td>0</td>\n",
       "      <td>PillProjectDisc10/images/79U-YY6M1UUR6F127ZMAC...</td>\n",
       "      <td>STRATTERA 10MG</td>\n",
       "    </tr>\n",
       "    <tr>\n",
       "      <td>1</td>\n",
       "      <td>PillProjectDisc11/images/7WVFV5H74!ELFNQ_GUH92...</td>\n",
       "      <td>STRATTERA 10MG</td>\n",
       "    </tr>\n",
       "    <tr>\n",
       "      <td>2</td>\n",
       "      <td>PillProjectDisc20/images/B4CH0R9B7PEQ6GORRX-8X...</td>\n",
       "      <td>STRATTERA 10MG</td>\n",
       "    </tr>\n",
       "    <tr>\n",
       "      <td>3</td>\n",
       "      <td>PillProjectDisc21/images/B5T5HI5XI8X2HSBJL-TGD...</td>\n",
       "      <td>STRATTERA 10MG</td>\n",
       "    </tr>\n",
       "    <tr>\n",
       "      <td>4</td>\n",
       "      <td>PillProjectDisc25/images/B8S621VZTSXR4Z4VRHYLT...</td>\n",
       "      <td>STRATTERA 10MG</td>\n",
       "    </tr>\n",
       "  </tbody>\n",
       "</table>\n",
       "</div>"
      ],
      "text/plain": [
       "                                               Image            Name\n",
       "0  PillProjectDisc10/images/79U-YY6M1UUR6F127ZMAC...  STRATTERA 10MG\n",
       "1  PillProjectDisc11/images/7WVFV5H74!ELFNQ_GUH92...  STRATTERA 10MG\n",
       "2  PillProjectDisc20/images/B4CH0R9B7PEQ6GORRX-8X...  STRATTERA 10MG\n",
       "3  PillProjectDisc21/images/B5T5HI5XI8X2HSBJL-TGD...  STRATTERA 10MG\n",
       "4  PillProjectDisc25/images/B8S621VZTSXR4Z4VRHYLT...  STRATTERA 10MG"
      ]
     },
     "execution_count": 13,
     "metadata": {},
     "output_type": "execute_result"
    }
   ],
   "source": [
    "consumer_lookup.head()"
   ]
  },
  {
   "cell_type": "code",
   "execution_count": 14,
   "metadata": {},
   "outputs": [
    {
     "data": {
      "text/plain": [
       "'PillProjectDisc10/images/79U-YY6M1UUR6F127ZMACIWPEEXHLB.JPG'"
      ]
     },
     "execution_count": 14,
     "metadata": {},
     "output_type": "execute_result"
    }
   ],
   "source": [
    "# Looking at the full value of an individual Image\n",
    "consumer_lookup['Image'][0]"
   ]
  },
  {
   "cell_type": "code",
   "execution_count": 15,
   "metadata": {},
   "outputs": [
    {
     "name": "stdout",
     "output_type": "stream",
     "text": [
      "ftp://lhcftp.nlm.nih.gov/Open-Access-Datasets/Pills/PillProjectDisc10/images/79U-YY6M1UUR6F127ZMACIWPEEXHLB.JPG\n"
     ]
    }
   ],
   "source": [
    "# Instantiating the base url for the source of the images\n",
    "url = 'ftp://lhcftp.nlm.nih.gov/Open-Access-Datasets/Pills/'\n",
    "\n",
    "# Printing what the base url + the above Image full value would look like\n",
    "print(url + consumer_lookup['Image'][0])"
   ]
  },
  {
   "cell_type": "markdown",
   "metadata": {},
   "source": [
    "The above is the full download link for the image referenced in the first row of the `consumer_lookup` directory.  Next we will create a column within the directory that will be populated with the full url download link for each image in the directory.  We will also remove the `Image` column after, since we do not need it going forward."
   ]
  },
  {
   "cell_type": "code",
   "execution_count": 16,
   "metadata": {},
   "outputs": [
    {
     "name": "stderr",
     "output_type": "stream",
     "text": [
      "C:\\Users\\Fausto\\Anaconda3\\lib\\site-packages\\ipykernel_launcher.py:2: SettingWithCopyWarning: \n",
      "A value is trying to be set on a copy of a slice from a DataFrame.\n",
      "Try using .loc[row_indexer,col_indexer] = value instead\n",
      "\n",
      "See the caveats in the documentation: http://pandas.pydata.org/pandas-docs/stable/user_guide/indexing.html#returning-a-view-versus-a-copy\n",
      "  \n"
     ]
    },
    {
     "data": {
      "text/html": [
       "<div>\n",
       "<style scoped>\n",
       "    .dataframe tbody tr th:only-of-type {\n",
       "        vertical-align: middle;\n",
       "    }\n",
       "\n",
       "    .dataframe tbody tr th {\n",
       "        vertical-align: top;\n",
       "    }\n",
       "\n",
       "    .dataframe thead th {\n",
       "        text-align: right;\n",
       "    }\n",
       "</style>\n",
       "<table border=\"1\" class=\"dataframe\">\n",
       "  <thead>\n",
       "    <tr style=\"text-align: right;\">\n",
       "      <th></th>\n",
       "      <th>Name</th>\n",
       "      <th>full_url</th>\n",
       "    </tr>\n",
       "  </thead>\n",
       "  <tbody>\n",
       "    <tr>\n",
       "      <td>0</td>\n",
       "      <td>STRATTERA 10MG</td>\n",
       "      <td>ftp://lhcftp.nlm.nih.gov/Open-Access-Datasets/...</td>\n",
       "    </tr>\n",
       "    <tr>\n",
       "      <td>1</td>\n",
       "      <td>STRATTERA 10MG</td>\n",
       "      <td>ftp://lhcftp.nlm.nih.gov/Open-Access-Datasets/...</td>\n",
       "    </tr>\n",
       "    <tr>\n",
       "      <td>2</td>\n",
       "      <td>STRATTERA 10MG</td>\n",
       "      <td>ftp://lhcftp.nlm.nih.gov/Open-Access-Datasets/...</td>\n",
       "    </tr>\n",
       "    <tr>\n",
       "      <td>3</td>\n",
       "      <td>STRATTERA 10MG</td>\n",
       "      <td>ftp://lhcftp.nlm.nih.gov/Open-Access-Datasets/...</td>\n",
       "    </tr>\n",
       "    <tr>\n",
       "      <td>4</td>\n",
       "      <td>STRATTERA 10MG</td>\n",
       "      <td>ftp://lhcftp.nlm.nih.gov/Open-Access-Datasets/...</td>\n",
       "    </tr>\n",
       "  </tbody>\n",
       "</table>\n",
       "</div>"
      ],
      "text/plain": [
       "             Name                                           full_url\n",
       "0  STRATTERA 10MG  ftp://lhcftp.nlm.nih.gov/Open-Access-Datasets/...\n",
       "1  STRATTERA 10MG  ftp://lhcftp.nlm.nih.gov/Open-Access-Datasets/...\n",
       "2  STRATTERA 10MG  ftp://lhcftp.nlm.nih.gov/Open-Access-Datasets/...\n",
       "3  STRATTERA 10MG  ftp://lhcftp.nlm.nih.gov/Open-Access-Datasets/...\n",
       "4  STRATTERA 10MG  ftp://lhcftp.nlm.nih.gov/Open-Access-Datasets/..."
      ]
     },
     "execution_count": 16,
     "metadata": {},
     "output_type": "execute_result"
    }
   ],
   "source": [
    "# Create new column\n",
    "consumer_lookup['full_url'] = [url + consumer_lookup['Image'][i] for i in range(len(consumer_lookup['Image']))]\n",
    "\n",
    "# Removing Image column\n",
    "consumer_lookup.drop(columns = ['Image'], inplace = True)\n",
    "\n",
    "# Looking at the result of the last 2 steps\n",
    "consumer_lookup.head()"
   ]
  },
  {
   "cell_type": "markdown",
   "metadata": {},
   "source": [
    "---\n",
    "### 04. Saving Down Changes"
   ]
  },
  {
   "cell_type": "markdown",
   "metadata": {},
   "source": [
    "In this final section, we will be saving down `consumer_lookup` as a csv file in order to pull into the next notebook - which will download the respective images."
   ]
  },
  {
   "cell_type": "code",
   "execution_count": 17,
   "metadata": {},
   "outputs": [],
   "source": [
    "consumer_lookup.to_csv('../data/consumer_lookup.csv')"
   ]
  },
  {
   "cell_type": "markdown",
   "metadata": {},
   "source": [
    "In the following notebook, we will use the saved file to download each individual images to our local drive."
   ]
  },
  {
   "cell_type": "markdown",
   "metadata": {},
   "source": [
    "---"
   ]
  }
 ],
 "metadata": {
  "kernelspec": {
   "display_name": "Python 3",
   "language": "python",
   "name": "python3"
  },
  "language_info": {
   "codemirror_mode": {
    "name": "ipython",
    "version": 3
   },
   "file_extension": ".py",
   "mimetype": "text/x-python",
   "name": "python",
   "nbconvert_exporter": "python",
   "pygments_lexer": "ipython3",
   "version": "3.7.3"
  }
 },
 "nbformat": 4,
 "nbformat_minor": 4
}
