{
 "cells": [
  {
   "cell_type": "markdown",
   "metadata": {},
   "source": [
    "# 02. Downloading Images"
   ]
  },
  {
   "cell_type": "markdown",
   "metadata": {},
   "source": [
    "This notebook was built for the purpose of retriving the consumer-grade images from the FTP site from the U.S. National Library of Medicine.  After the first notebook built a `.csv` file with the appropriate link to the referenced images, this notebook will pull in that csv file and leverage the `webbrowser` library to download each image file."
   ]
  },
  {
   "cell_type": "markdown",
   "metadata": {},
   "source": [
    "---\n",
    "## Table of Contents\n",
    "- [01. Importing Libraries](#01.-Importing-Libraries)\n",
    "- [02. Read In Directory](#02.-Read-In-Directory)\n",
    "- [03. Downloading Images](#03.-Downloading-Images)\n",
    "- [04. Relocating Images](#04.-Relocating-Images)"
   ]
  },
  {
   "cell_type": "markdown",
   "metadata": {},
   "source": [
    "---\n",
    "### 01. Importing Libraries"
   ]
  },
  {
   "cell_type": "markdown",
   "metadata": {},
   "source": [
    "For this notebook, we will require the used of the below libraries:\n",
    "- `pandas`: for dealing with the csv file as a dataframe\n",
    "- `webbrowser`: to access and manipulate our default web browser\n",
    "- `time`: so that we can have our downloading code sleep between downloads\n",
    "- `os`: used in conjunction with `shutil` in order to relocate downloads\n",
    "- `shutil`: used in conjunction with `os` in order to relocate downloads"
   ]
  },
  {
   "cell_type": "code",
   "execution_count": 1,
   "metadata": {},
   "outputs": [],
   "source": [
    "import pandas as pd\n",
    "import webbrowser\n",
    "import time\n",
    "from time import sleep\n",
    "import os\n",
    "# import random\n",
    "import shutil"
   ]
  },
  {
   "cell_type": "markdown",
   "metadata": {},
   "source": [
    "---\n",
    "### 02. Read In Directory"
   ]
  },
  {
   "cell_type": "code",
   "execution_count": 2,
   "metadata": {},
   "outputs": [
    {
     "data": {
      "text/html": [
       "<div>\n",
       "<style scoped>\n",
       "    .dataframe tbody tr th:only-of-type {\n",
       "        vertical-align: middle;\n",
       "    }\n",
       "\n",
       "    .dataframe tbody tr th {\n",
       "        vertical-align: top;\n",
       "    }\n",
       "\n",
       "    .dataframe thead th {\n",
       "        text-align: right;\n",
       "    }\n",
       "</style>\n",
       "<table border=\"1\" class=\"dataframe\">\n",
       "  <thead>\n",
       "    <tr style=\"text-align: right;\">\n",
       "      <th></th>\n",
       "      <th>Name</th>\n",
       "      <th>full_url</th>\n",
       "    </tr>\n",
       "  </thead>\n",
       "  <tbody>\n",
       "    <tr>\n",
       "      <td>0</td>\n",
       "      <td>STRATTERA 10MG</td>\n",
       "      <td>ftp://lhcftp.nlm.nih.gov/Open-Access-Datasets/...</td>\n",
       "    </tr>\n",
       "    <tr>\n",
       "      <td>1</td>\n",
       "      <td>STRATTERA 10MG</td>\n",
       "      <td>ftp://lhcftp.nlm.nih.gov/Open-Access-Datasets/...</td>\n",
       "    </tr>\n",
       "    <tr>\n",
       "      <td>2</td>\n",
       "      <td>STRATTERA 10MG</td>\n",
       "      <td>ftp://lhcftp.nlm.nih.gov/Open-Access-Datasets/...</td>\n",
       "    </tr>\n",
       "    <tr>\n",
       "      <td>3</td>\n",
       "      <td>STRATTERA 10MG</td>\n",
       "      <td>ftp://lhcftp.nlm.nih.gov/Open-Access-Datasets/...</td>\n",
       "    </tr>\n",
       "    <tr>\n",
       "      <td>4</td>\n",
       "      <td>STRATTERA 10MG</td>\n",
       "      <td>ftp://lhcftp.nlm.nih.gov/Open-Access-Datasets/...</td>\n",
       "    </tr>\n",
       "  </tbody>\n",
       "</table>\n",
       "</div>"
      ],
      "text/plain": [
       "             Name                                           full_url\n",
       "0  STRATTERA 10MG  ftp://lhcftp.nlm.nih.gov/Open-Access-Datasets/...\n",
       "1  STRATTERA 10MG  ftp://lhcftp.nlm.nih.gov/Open-Access-Datasets/...\n",
       "2  STRATTERA 10MG  ftp://lhcftp.nlm.nih.gov/Open-Access-Datasets/...\n",
       "3  STRATTERA 10MG  ftp://lhcftp.nlm.nih.gov/Open-Access-Datasets/...\n",
       "4  STRATTERA 10MG  ftp://lhcftp.nlm.nih.gov/Open-Access-Datasets/..."
      ]
     },
     "execution_count": 2,
     "metadata": {},
     "output_type": "execute_result"
    }
   ],
   "source": [
    "# Read-in csv file\n",
    "data = pd.read_csv('../data/consumer_lookup.csv').drop(columns = ['Unnamed: 0'])\n",
    "\n",
    "# Looking at the top 5 rows\n",
    "data.head()"
   ]
  },
  {
   "cell_type": "markdown",
   "metadata": {},
   "source": [
    "---\n",
    "### 03. Downloading Images"
   ]
  },
  {
   "cell_type": "markdown",
   "metadata": {},
   "source": [
    "This code block will use the `webbrowser` library to open up the links listed on the `full_url` column in a new web browser tab.  Each link, once opened, automatically downloads the pill image for the associated medication in the `Name` column.  In order to alleviate the potential flood of traffic to the host server, which can be interpreted as a distributed denial-of-service (DDoS) attack, we will wait 4 seconds between each download."
   ]
  },
  {
   "cell_type": "code",
   "execution_count": 3,
   "metadata": {},
   "outputs": [],
   "source": [
    "# For each link found in the 'full_url' column,\n",
    "for url in data['full_url']:\n",
    "    # open the link in a new web browser,\n",
    "    webbrowser.open_new(url)\n",
    "    # and take a 4 second break before moving on to the next link\n",
    "    sleep(4)"
   ]
  },
  {
   "cell_type": "markdown",
   "metadata": {},
   "source": [
    "Due to the aforementioned waiting period of 4 seconds between each download, the total amount of time it took to download all 59,414 jpeg files was just over 66 hours."
   ]
  },
  {
   "cell_type": "markdown",
   "metadata": {},
   "source": [
    "---\n",
    "### 04. Relocating Images"
   ]
  },
  {
   "cell_type": "markdown",
   "metadata": {},
   "source": [
    "After a lengthy waiting period, we need to move all of the downloaded images from our download folder into the appropriate test folder, from which future notebooks will access the images."
   ]
  },
  {
   "cell_type": "code",
   "execution_count": 9,
   "metadata": {},
   "outputs": [],
   "source": [
    "# Instantiate the folder from which we will move the images from\n",
    "source = 'C:\\\\Users\\\\Fausto\\\\Downloads\\\\'\n",
    "\n",
    "# Instantiate the folder where we will move the images to\n",
    "destination = 'C:\\\\Users\\\\Fausto\\\\Documents\\\\General_Assembly\\\\Projects\\\\f-manon_capstone\\\\images\\\\test'\n",
    "\n",
    "# Instantiate a list of files located in the Downloads folder\n",
    "files = os.listdir(source)\n",
    "\n",
    "# For each file in the Downloads folder, move from the source to the destination\n",
    "for f in files:\n",
    "        shutil.move(source + f, destination)"
   ]
  },
  {
   "cell_type": "markdown",
   "metadata": {},
   "source": [
    "Now we are ready to move on to the next notebook in order to convert the images into data that our neural network can process."
   ]
  },
  {
   "cell_type": "markdown",
   "metadata": {},
   "source": [
    "---"
   ]
  }
 ],
 "metadata": {
  "kernelspec": {
   "display_name": "Python 3",
   "language": "python",
   "name": "python3"
  },
  "language_info": {
   "codemirror_mode": {
    "name": "ipython",
    "version": 3
   },
   "file_extension": ".py",
   "mimetype": "text/x-python",
   "name": "python",
   "nbconvert_exporter": "python",
   "pygments_lexer": "ipython3",
   "version": "3.7.3"
  }
 },
 "nbformat": 4,
 "nbformat_minor": 4
}
