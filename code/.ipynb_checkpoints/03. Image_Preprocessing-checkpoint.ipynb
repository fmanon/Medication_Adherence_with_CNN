{
 "cells": [
  {
   "cell_type": "markdown",
   "metadata": {},
   "source": [
    "# 03. Image Preprocessing"
   ]
  },
  {
   "cell_type": "markdown",
   "metadata": {},
   "source": [
    "In this notebook we will set up both reference and consumer images for neural network processing.  We will start by addressing the reference images, better known to our model as our training set.  Since we are training our model with categorical data, we need to create folders for each medication (our categories).  Then we move on to converting each image into arrays that the neural network can interpret.  We will the notebook by converting the consumer-grade (testing set) images as well and saving it down for when our model is ready to generate predictions.\n",
    "\n",
    "***NOTE:*** *Due to various iterations of our model in the next notebook, we have made some changes throughout this notebook.*\n",
    "- *Anything changes made that starts with **UPDATE_1** is due to our computer running out of memory when running the CNN.*\n",
    "- *Anything with **UPDATE_2** is in reference to our model accuracy results being 0.00%.*"
   ]
  },
  {
   "cell_type": "markdown",
   "metadata": {},
   "source": [
    "---\n",
    "## Table of Contents\n",
    "\n",
    "- [01. Import Libraries](#01.-Import-Libraries)\n",
    "- [02. Read In, Clean, Visualize](#02.-Read-In,-Clean,-Visualize)\n",
    "- [03. Folder Creation](#03.-Folder-Creation)\n",
    "- [04. Populate Folders](#04.-Populate-Folders)\n",
    "- [05. Image Conversion](#05.-Image-Conversion)\n",
    "    - [05.01. Training Images](#05.01.-Training-Images)\n",
    "    - [05.02. Test Images](#05.02.-Test-Images)\n",
    "- [06. Saving Data](#06.-Saving-Data)\n",
    "- [07. Observations](#07.-Observations)"
   ]
  },
  {
   "cell_type": "markdown",
   "metadata": {},
   "source": [
    "---\n",
    "### 01. Import Libraries"
   ]
  },
  {
   "cell_type": "markdown",
   "metadata": {},
   "source": [
    "In this notebook we will be leveraging the following libraries:\n",
    "- `numpy`: for dealing with arrays\n",
    "- `pandas`: for dealing with the csv file as a dataframe\n",
    "- `matplotlib`: generate preview of images inline\n",
    "- `os`: used in conjunction with shutil in order to relocate downloads\n",
    "- `shutil`: used in conjunction with os in order to relocate downloads\n",
    "- `cv2`: OpenCV - computer vision library to use for images\n",
    "- `tqdm`: progress bar to gauge length of time needed for functions to run\n",
    "- `random`: to shuffle the order of our data"
   ]
  },
  {
   "cell_type": "code",
   "execution_count": 1,
   "metadata": {},
   "outputs": [],
   "source": [
    "import numpy as np\n",
    "import pandas as pd\n",
    "import matplotlib.pyplot as plt\n",
    "import os\n",
    "import shutil\n",
    "import cv2\n",
    "from tqdm import tqdm\n",
    "import random\n",
    "\n",
    "%matplotlib inline"
   ]
  },
  {
   "cell_type": "markdown",
   "metadata": {},
   "source": [
    "---\n",
    "### 02. Read In, Clean, Visualize"
   ]
  },
  {
   "cell_type": "markdown",
   "metadata": {},
   "source": [
    "For the training data, we are going to create folders based on the reference images.  Therefore, we need to pull in the proper reference directory and leverage its contents for what we need. We will create a new dataframe that consists of the medication's `name`, `rxnavImageFileName`, and `nlmImageFileName` to use in the creation of the training set."
   ]
  },
  {
   "cell_type": "code",
   "execution_count": 2,
   "metadata": {},
   "outputs": [
    {
     "data": {
      "text/html": [
       "<div>\n",
       "<style scoped>\n",
       "    .dataframe tbody tr th:only-of-type {\n",
       "        vertical-align: middle;\n",
       "    }\n",
       "\n",
       "    .dataframe tbody tr th {\n",
       "        vertical-align: top;\n",
       "    }\n",
       "\n",
       "    .dataframe thead th {\n",
       "        text-align: right;\n",
       "    }\n",
       "</style>\n",
       "<table border=\"1\" class=\"dataframe\">\n",
       "  <thead>\n",
       "    <tr style=\"text-align: right;\">\n",
       "      <th></th>\n",
       "      <th>name</th>\n",
       "      <th>rxnavImageFileName</th>\n",
       "      <th>nlmImageFileName</th>\n",
       "    </tr>\n",
       "  </thead>\n",
       "  <tbody>\n",
       "    <tr>\n",
       "      <td>0</td>\n",
       "      <td>Loperamide Hydrochloride 2 MG Oral Capsule</td>\n",
       "      <td>00093-0311-01_RXNAVIMAGE10_26211358.jpg</td>\n",
       "      <td>00093-0311-01_NLMIMAGE10_6315B1FD.jpg</td>\n",
       "    </tr>\n",
       "    <tr>\n",
       "      <td>1</td>\n",
       "      <td>Minocycline 50 MG Oral Capsule</td>\n",
       "      <td>00093-3165-01_RXNAVIMAGE10_36231B28.jpg</td>\n",
       "      <td>00093-3165-01_NLMIMAGE10_19270CA8.jpg</td>\n",
       "    </tr>\n",
       "    <tr>\n",
       "      <td>2</td>\n",
       "      <td>Nortriptyline 10 MG Oral Capsule</td>\n",
       "      <td>00093-0810-01_RXNAVIMAGE10_24231228.jpg</td>\n",
       "      <td>00093-0810-01_NLMIMAGE10_34271A58.jpg</td>\n",
       "    </tr>\n",
       "    <tr>\n",
       "      <td>3</td>\n",
       "      <td>Nortriptyline 25 MG Oral Capsule</td>\n",
       "      <td>00093-0811-01_RXNAVIMAGE10_20231018.jpg</td>\n",
       "      <td>00093-0811-01_NLMIMAGE10_15270A98.jpg</td>\n",
       "    </tr>\n",
       "    <tr>\n",
       "      <td>4</td>\n",
       "      <td>Nortriptyline 50 MG Oral Capsule</td>\n",
       "      <td>00093-0812-01_RXNAVIMAGE10_2D2316D8.jpg</td>\n",
       "      <td>00093-0812-01_NLMIMAGE10_DD0E6EE3.jpg</td>\n",
       "    </tr>\n",
       "  </tbody>\n",
       "</table>\n",
       "</div>"
      ],
      "text/plain": [
       "                                         name  \\\n",
       "0  Loperamide Hydrochloride 2 MG Oral Capsule   \n",
       "1              Minocycline 50 MG Oral Capsule   \n",
       "2            Nortriptyline 10 MG Oral Capsule   \n",
       "3            Nortriptyline 25 MG Oral Capsule   \n",
       "4            Nortriptyline 50 MG Oral Capsule   \n",
       "\n",
       "                        rxnavImageFileName  \\\n",
       "0  00093-0311-01_RXNAVIMAGE10_26211358.jpg   \n",
       "1  00093-3165-01_RXNAVIMAGE10_36231B28.jpg   \n",
       "2  00093-0810-01_RXNAVIMAGE10_24231228.jpg   \n",
       "3  00093-0811-01_RXNAVIMAGE10_20231018.jpg   \n",
       "4  00093-0812-01_RXNAVIMAGE10_2D2316D8.jpg   \n",
       "\n",
       "                        nlmImageFileName  \n",
       "0  00093-0311-01_NLMIMAGE10_6315B1FD.jpg  \n",
       "1  00093-3165-01_NLMIMAGE10_19270CA8.jpg  \n",
       "2  00093-0810-01_NLMIMAGE10_34271A58.jpg  \n",
       "3  00093-0811-01_NLMIMAGE10_15270A98.jpg  \n",
       "4  00093-0812-01_NLMIMAGE10_DD0E6EE3.jpg  "
      ]
     },
     "execution_count": 2,
     "metadata": {},
     "output_type": "execute_result"
    }
   ],
   "source": [
    "ref_data = pd.read_csv('../data/directory_reference_images.csv')\n",
    "\n",
    "ref_lookup = ref_data[['name', 'rxnavImageFileName', 'nlmImageFileName']]\n",
    "ref_lookup.head()"
   ]
  },
  {
   "cell_type": "markdown",
   "metadata": {},
   "source": [
    "Here we will be doing some quick cleaning, as to make sure that there aren't any issues down the line.  Furthermore, we want to get a feel for the makeup of the data."
   ]
  },
  {
   "cell_type": "code",
   "execution_count": 3,
   "metadata": {},
   "outputs": [
    {
     "data": {
      "text/plain": [
       "2111"
      ]
     },
     "execution_count": 3,
     "metadata": {},
     "output_type": "execute_result"
    }
   ],
   "source": [
    "ref_lookup.groupby(ref_lookup['name']).count().shape[0]"
   ]
  },
  {
   "cell_type": "code",
   "execution_count": 4,
   "metadata": {},
   "outputs": [
    {
     "data": {
      "text/plain": [
       "4392"
      ]
     },
     "execution_count": 4,
     "metadata": {},
     "output_type": "execute_result"
    }
   ],
   "source": [
    "ref_lookup.shape[0]"
   ]
  },
  {
   "cell_type": "markdown",
   "metadata": {},
   "source": [
    "There are a total of 4,392 images across 2,112 unique medications used for reference."
   ]
  },
  {
   "cell_type": "code",
   "execution_count": 5,
   "metadata": {},
   "outputs": [
    {
     "data": {
      "text/plain": [
       "name                  60\n",
       "rxnavImageFileName     0\n",
       "nlmImageFileName       0\n",
       "dtype: int64"
      ]
     },
     "execution_count": 5,
     "metadata": {},
     "output_type": "execute_result"
    }
   ],
   "source": [
    "# Checking for na\n",
    "ref_lookup.isna().sum()"
   ]
  },
  {
   "cell_type": "code",
   "execution_count": 6,
   "metadata": {},
   "outputs": [
    {
     "data": {
      "text/html": [
       "<div>\n",
       "<style scoped>\n",
       "    .dataframe tbody tr th:only-of-type {\n",
       "        vertical-align: middle;\n",
       "    }\n",
       "\n",
       "    .dataframe tbody tr th {\n",
       "        vertical-align: top;\n",
       "    }\n",
       "\n",
       "    .dataframe thead th {\n",
       "        text-align: right;\n",
       "    }\n",
       "</style>\n",
       "<table border=\"1\" class=\"dataframe\">\n",
       "  <thead>\n",
       "    <tr style=\"text-align: right;\">\n",
       "      <th></th>\n",
       "      <th>name</th>\n",
       "      <th>rxnavImageFileName</th>\n",
       "      <th>nlmImageFileName</th>\n",
       "    </tr>\n",
       "  </thead>\n",
       "  <tbody>\n",
       "    <tr>\n",
       "      <td>17</td>\n",
       "      <td>NaN</td>\n",
       "      <td>00093-4356-01_RXNAVIMAGE10_0E210728.jpg</td>\n",
       "      <td>00093-4356-01_NLMIMAGE10_0E210728.jpg</td>\n",
       "    </tr>\n",
       "    <tr>\n",
       "      <td>398</td>\n",
       "      <td>NaN</td>\n",
       "      <td>00525-1102-90_RXNAVIMAGE10_A839D46E.jpg</td>\n",
       "      <td>00525-1102-90_NLMIMAGE10_A839D46E.jpg</td>\n",
       "    </tr>\n",
       "    <tr>\n",
       "      <td>505</td>\n",
       "      <td>NaN</td>\n",
       "      <td>00093-0852-53_RXNAVIMAGE10_2C241600.jpg</td>\n",
       "      <td>00093-0852-53_NLMIMAGE10_2C241600.jpg</td>\n",
       "    </tr>\n",
       "    <tr>\n",
       "      <td>544</td>\n",
       "      <td>NaN</td>\n",
       "      <td>53489-0469-01_RXNAVIMAGE10_E92374FB.jpg</td>\n",
       "      <td>53489-0469-01_NLMIMAGE10_E92374FB.jpg</td>\n",
       "    </tr>\n",
       "    <tr>\n",
       "      <td>565</td>\n",
       "      <td>NaN</td>\n",
       "      <td>00172-5361-60_RXNAVIMAGE10_CA23650B.jpg</td>\n",
       "      <td>00172-5361-60_NLMIMAGE10_CA23650B.jpg</td>\n",
       "    </tr>\n",
       "  </tbody>\n",
       "</table>\n",
       "</div>"
      ],
      "text/plain": [
       "    name                       rxnavImageFileName  \\\n",
       "17   NaN  00093-4356-01_RXNAVIMAGE10_0E210728.jpg   \n",
       "398  NaN  00525-1102-90_RXNAVIMAGE10_A839D46E.jpg   \n",
       "505  NaN  00093-0852-53_RXNAVIMAGE10_2C241600.jpg   \n",
       "544  NaN  53489-0469-01_RXNAVIMAGE10_E92374FB.jpg   \n",
       "565  NaN  00172-5361-60_RXNAVIMAGE10_CA23650B.jpg   \n",
       "\n",
       "                          nlmImageFileName  \n",
       "17   00093-4356-01_NLMIMAGE10_0E210728.jpg  \n",
       "398  00525-1102-90_NLMIMAGE10_A839D46E.jpg  \n",
       "505  00093-0852-53_NLMIMAGE10_2C241600.jpg  \n",
       "544  53489-0469-01_NLMIMAGE10_E92374FB.jpg  \n",
       "565  00172-5361-60_NLMIMAGE10_CA23650B.jpg  "
      ]
     },
     "execution_count": 6,
     "metadata": {},
     "output_type": "execute_result"
    }
   ],
   "source": [
    "ref_lookup[ref_lookup['name'].isna()].head()"
   ]
  },
  {
   "cell_type": "code",
   "execution_count": 7,
   "metadata": {},
   "outputs": [
    {
     "data": {
      "text/plain": [
       "(4392, 3)"
      ]
     },
     "execution_count": 7,
     "metadata": {},
     "output_type": "execute_result"
    }
   ],
   "source": [
    "ref_lookup.shape"
   ]
  },
  {
   "cell_type": "markdown",
   "metadata": {},
   "source": [
    "As there are a total of 60 rows out of 4,392 with `na` values (in this case, all 60 do not have a medication name), we will drop the rows, which account for 1.36% of the total."
   ]
  },
  {
   "cell_type": "code",
   "execution_count": 8,
   "metadata": {},
   "outputs": [
    {
     "name": "stderr",
     "output_type": "stream",
     "text": [
      "C:\\Users\\Fausto\\Anaconda3\\lib\\site-packages\\ipykernel_launcher.py:1: SettingWithCopyWarning: \n",
      "A value is trying to be set on a copy of a slice from a DataFrame\n",
      "\n",
      "See the caveats in the documentation: http://pandas.pydata.org/pandas-docs/stable/user_guide/indexing.html#returning-a-view-versus-a-copy\n",
      "  \"\"\"Entry point for launching an IPython kernel.\n"
     ]
    }
   ],
   "source": [
    "ref_lookup.dropna(inplace = True)\n",
    "ref_lookup.reset_index(inplace = True)"
   ]
  },
  {
   "cell_type": "code",
   "execution_count": 9,
   "metadata": {},
   "outputs": [
    {
     "data": {
      "text/plain": [
       "(4332, 4)"
      ]
     },
     "execution_count": 9,
     "metadata": {},
     "output_type": "execute_result"
    }
   ],
   "source": [
    "ref_lookup.shape"
   ]
  },
  {
   "cell_type": "code",
   "execution_count": 10,
   "metadata": {},
   "outputs": [
    {
     "data": {
      "text/plain": [
       "2111"
      ]
     },
     "execution_count": 10,
     "metadata": {},
     "output_type": "execute_result"
    }
   ],
   "source": [
    "# Count of unique medications\n",
    "len(ref_lookup['name'].unique())"
   ]
  },
  {
   "cell_type": "markdown",
   "metadata": {},
   "source": [
    "It looks like we dropped 60 images of medications for our data set.  As such, we are now aiming to generate 2,111 folders in total in which to store 4,332 images.  Next we will take a look at which images are that of capsules and which are for tablets."
   ]
  },
  {
   "cell_type": "code",
   "execution_count": 34,
   "metadata": {},
   "outputs": [
    {
     "data": {
      "image/png": "[encoded data removed]",
      "text/plain": [
       "<Figure size 432x288 with 1 Axes>"
      ]
     },
     "metadata": {
      "needs_background": "light"
     },
     "output_type": "display_data"
    },
    {
     "name": "stdout",
     "output_type": "stream",
     "text": [
      "There are a total of 794 capsule images and 3534 tablet images that we can use for reference.\n"
     ]
    }
   ],
   "source": [
    "# Data to plot\n",
    "n_groups = 1\n",
    "cap_count = ref_lookup['name'].str.contains('Capsule').sum()\n",
    "tab_count = ref_lookup['name'].str.contains('Tab').sum()\n",
    "\n",
    "# Create plot\n",
    "fig, ax = plt.subplots()\n",
    "index = np.arange(n_groups)\n",
    "bar_width = 0.35\n",
    "opacity = 0.8\n",
    "\n",
    "rects1 = plt.bar(index,\n",
    "                 cap_count,\n",
    "                 bar_width,\n",
    "                 alpha=opacity,\n",
    "                 color='b',\n",
    "                 label='Capsules')\n",
    "\n",
    "rects2 = plt.bar(index + bar_width,\n",
    "                 tab_count,\n",
    "                 bar_width,\n",
    "                 alpha=opacity,\n",
    "                 color='g',\n",
    "                 label='Tablets')\n",
    "\n",
    "plt.xlabel('Pills')\n",
    "plt.ylabel('Count')\n",
    "plt.title('Image Count by Pill Type')\n",
    "plt.xticks(index + bar_width, ())\n",
    "plt.legend()\n",
    "\n",
    "plt.tight_layout()\n",
    "plt.show();\n",
    "fig.savefig('../images/pill_breakdown.png')\n",
    "\n",
    "# Print results\n",
    "print (f\"There are a total of {cap_count} capsule images and {tab_count} tablet images that we can use for reference.\")"
   ]
  },
  {
   "cell_type": "markdown",
   "metadata": {},
   "source": [
    "***UPDATE_2:*** *Due to, after various iterations of training, our model having a 0.00% accuracy score, we will be modifying the training data to contain only those medications with over 8 images.  Once we establish a working model, we will iterate to include more medications.*"
   ]
  },
  {
   "cell_type": "code",
   "execution_count": 12,
   "metadata": {},
   "outputs": [
    {
     "data": {
      "text/html": [
       "<div>\n",
       "<style scoped>\n",
       "    .dataframe tbody tr th:only-of-type {\n",
       "        vertical-align: middle;\n",
       "    }\n",
       "\n",
       "    .dataframe tbody tr th {\n",
       "        vertical-align: top;\n",
       "    }\n",
       "\n",
       "    .dataframe thead th {\n",
       "        text-align: right;\n",
       "    }\n",
       "</style>\n",
       "<table border=\"1\" class=\"dataframe\">\n",
       "  <thead>\n",
       "    <tr style=\"text-align: right;\">\n",
       "      <th></th>\n",
       "      <th>name</th>\n",
       "      <th>index</th>\n",
       "      <th>rxnavImageFileName</th>\n",
       "      <th>nlmImageFileName</th>\n",
       "    </tr>\n",
       "  </thead>\n",
       "  <tbody>\n",
       "    <tr>\n",
       "      <td>0</td>\n",
       "      <td>12 HR Acetazolamide 500 MG Extended Release Or...</td>\n",
       "      <td>3</td>\n",
       "      <td>3</td>\n",
       "      <td>3</td>\n",
       "    </tr>\n",
       "    <tr>\n",
       "      <td>1</td>\n",
       "      <td>12 HR Acetazolamide 500 MG Extended Release Or...</td>\n",
       "      <td>1</td>\n",
       "      <td>1</td>\n",
       "      <td>1</td>\n",
       "    </tr>\n",
       "    <tr>\n",
       "      <td>2</td>\n",
       "      <td>12 HR Albuterol 4 MG Extended Release Oral Tablet</td>\n",
       "      <td>1</td>\n",
       "      <td>1</td>\n",
       "      <td>1</td>\n",
       "    </tr>\n",
       "    <tr>\n",
       "      <td>3</td>\n",
       "      <td>12 HR Amoxicillin 1000 MG / Clavulanate 62.5 M...</td>\n",
       "      <td>2</td>\n",
       "      <td>2</td>\n",
       "      <td>2</td>\n",
       "    </tr>\n",
       "    <tr>\n",
       "      <td>4</td>\n",
       "      <td>12 HR Bupropion Hydrochloride 100 MG Extended ...</td>\n",
       "      <td>1</td>\n",
       "      <td>1</td>\n",
       "      <td>1</td>\n",
       "    </tr>\n",
       "  </tbody>\n",
       "</table>\n",
       "</div>"
      ],
      "text/plain": [
       "                                                name  index  \\\n",
       "0  12 HR Acetazolamide 500 MG Extended Release Or...      3   \n",
       "1  12 HR Acetazolamide 500 MG Extended Release Or...      1   \n",
       "2  12 HR Albuterol 4 MG Extended Release Oral Tablet      1   \n",
       "3  12 HR Amoxicillin 1000 MG / Clavulanate 62.5 M...      2   \n",
       "4  12 HR Bupropion Hydrochloride 100 MG Extended ...      1   \n",
       "\n",
       "   rxnavImageFileName  nlmImageFileName  \n",
       "0                   3                 3  \n",
       "1                   1                 1  \n",
       "2                   1                 1  \n",
       "3                   2                 2  \n",
       "4                   1                 1  "
      ]
     },
     "execution_count": 12,
     "metadata": {},
     "output_type": "execute_result"
    }
   ],
   "source": [
    "pill_count_df = ref_lookup.groupby(ref_lookup['name'], as_index=False).count()\n",
    "pill_count_df.head()"
   ]
  },
  {
   "cell_type": "code",
   "execution_count": 13,
   "metadata": {},
   "outputs": [
    {
     "data": {
      "text/html": [
       "<div>\n",
       "<style scoped>\n",
       "    .dataframe tbody tr th:only-of-type {\n",
       "        vertical-align: middle;\n",
       "    }\n",
       "\n",
       "    .dataframe tbody tr th {\n",
       "        vertical-align: top;\n",
       "    }\n",
       "\n",
       "    .dataframe thead th {\n",
       "        text-align: right;\n",
       "    }\n",
       "</style>\n",
       "<table border=\"1\" class=\"dataframe\">\n",
       "  <thead>\n",
       "    <tr style=\"text-align: right;\">\n",
       "      <th></th>\n",
       "      <th>name</th>\n",
       "      <th>rxnavImageFileName</th>\n",
       "      <th>nlmImageFileName</th>\n",
       "    </tr>\n",
       "  </thead>\n",
       "  <tbody>\n",
       "    <tr>\n",
       "      <td>0</td>\n",
       "      <td>Lisinopril 20 MG Oral Tablet</td>\n",
       "      <td>9</td>\n",
       "      <td>9</td>\n",
       "    </tr>\n",
       "    <tr>\n",
       "      <td>1</td>\n",
       "      <td>Lisinopril 5 MG Oral Tablet</td>\n",
       "      <td>9</td>\n",
       "      <td>9</td>\n",
       "    </tr>\n",
       "    <tr>\n",
       "      <td>2</td>\n",
       "      <td>Simvastatin 5 MG Oral Tablet</td>\n",
       "      <td>9</td>\n",
       "      <td>9</td>\n",
       "    </tr>\n",
       "    <tr>\n",
       "      <td>3</td>\n",
       "      <td>pantoprazole 40 MG Delayed Release Oral Tablet</td>\n",
       "      <td>10</td>\n",
       "      <td>10</td>\n",
       "    </tr>\n",
       "  </tbody>\n",
       "</table>\n",
       "</div>"
      ],
      "text/plain": [
       "                                             name  rxnavImageFileName  \\\n",
       "0                    Lisinopril 20 MG Oral Tablet                   9   \n",
       "1                     Lisinopril 5 MG Oral Tablet                   9   \n",
       "2                    Simvastatin 5 MG Oral Tablet                   9   \n",
       "3  pantoprazole 40 MG Delayed Release Oral Tablet                  10   \n",
       "\n",
       "   nlmImageFileName  \n",
       "0                 9  \n",
       "1                 9  \n",
       "2                 9  \n",
       "3                10  "
      ]
     },
     "execution_count": 13,
     "metadata": {},
     "output_type": "execute_result"
    }
   ],
   "source": [
    "pill_filter = pill_count_df[pill_count_df['nlmImageFileName'] > 8].head(10)\n",
    "pill_filter.reset_index(inplace = True)\n",
    "pill_filter.drop(columns = 'level_0', inplace = True)\n",
    "pill_filter.drop(columns = 'index', inplace = True)\n",
    "pill_filter"
   ]
  },
  {
   "cell_type": "markdown",
   "metadata": {},
   "source": [
    "---\n",
    "### 03. Folder Creation"
   ]
  },
  {
   "cell_type": "markdown",
   "metadata": {},
   "source": [
    "Since we want to train our neural network to identify the appropriate pills, we first need to sort all of the reference images that were downloaded into folders with their appropriate medication names.  The code below will use the `ref_lookup` generated above to gather the names of each unique medication and create a  folder with the respective name."
   ]
  },
  {
   "cell_type": "code",
   "execution_count": 14,
   "metadata": {},
   "outputs": [
    {
     "name": "stdout",
     "output_type": "stream",
     "text": [
      "Created a total of 0 folders.\n"
     ]
    }
   ],
   "source": [
    "folder_path_to = '../images/training_set'\n",
    "folder_names = list(pill_filter['name'].unique())\n",
    "count = 0\n",
    "\n",
    "for names in folder_names:\n",
    "    try:\n",
    "        os.mkdir(os.path.join(folder_path_to, str(names)))\n",
    "        count += 1\n",
    "    except:\n",
    "        pass\n",
    "    \n",
    "print(f'Created a total of {count} folders.')"
   ]
  },
  {
   "cell_type": "markdown",
   "metadata": {},
   "source": [
    "After running the above code, we ended up generating 1,743 out of the expected 2,111 total unique pills.  The placement of `try / except` in the code was intentional, as, given that we are currently limited in time, we cannot address a total of 367 issues, which accounts for 17% of the total unique medications.  Given more time, we would be able to go though some of these issues.  A quick glance lets us know that there are some naming issues with the medication, as shown below, where 2 folders have the same name, however, one of them also has an alternative name for the same medication:"
   ]
  },
  {
   "cell_type": "markdown",
   "metadata": {},
   "source": [
    "![Folders](../images/folders.jpg)"
   ]
  },
  {
   "cell_type": "markdown",
   "metadata": {},
   "source": [
    "This implies that there are actually $less$ medications than the previously observed 2,111.  This merrits more investigation when more time arises."
   ]
  },
  {
   "cell_type": "markdown",
   "metadata": {},
   "source": [
    "***UPDATE_2:*** *Due to the need to change certain inputs to our model, we have created a total of 4 folders, as the previously generated 1,743 did not function properly.*  In rerunning the code, if the folders have already been created, the code will not create another folder."
   ]
  },
  {
   "cell_type": "markdown",
   "metadata": {},
   "source": [
    "Here, we will create folders for the test / validation data."
   ]
  },
  {
   "cell_type": "code",
   "execution_count": 15,
   "metadata": {},
   "outputs": [
    {
     "name": "stdout",
     "output_type": "stream",
     "text": [
      "Created a total of 0 folders.\n"
     ]
    }
   ],
   "source": [
    "folder_path_to = '../images/consumer/validation_set'\n",
    "folder_names = list(pill_filter['name'].unique())\n",
    "count = 0\n",
    "\n",
    "for names in folder_names:\n",
    "    try:\n",
    "        os.mkdir(os.path.join(folder_path_to, str(names)))\n",
    "        count += 1\n",
    "    except:\n",
    "        pass\n",
    "    \n",
    "print(f'Created a total of {count} folders.')"
   ]
  },
  {
   "cell_type": "markdown",
   "metadata": {},
   "source": [
    "---\n",
    "### 04. Populate Folders"
   ]
  },
  {
   "cell_type": "markdown",
   "metadata": {},
   "source": [
    "Our next step is to populate each generated folder with the appropriate reference pill images.  We will leverage `ref_lookup` again in order to do this."
   ]
  },
  {
   "cell_type": "markdown",
   "metadata": {},
   "source": [
    "For the `path_from` below, the reference images have multiple folders for each size of a pill image.  There are a total of 5 folders (120, 300, 600, 800, 1024), where each medication has an image in 120x120, 300x300, etc. - each image in their respective size folder.  We chose not to use the 1024 images to train due to the nature of a high quality photo - there are a lot of details and we do not want to risk the model looking for exact specifications, especially since the consumer images vary in size, resolution and details.  On the other hand, we do not want to use the 120 images due to dilution of the image (we guess that the model would be good at identifying shapes this way, but not identifying the actual medication).  As a result, we selected the middle (600) to go through."
   ]
  },
  {
   "cell_type": "markdown",
   "metadata": {},
   "source": [
    "***UPDATE:*** *Due to memory issues when running our CNN in the next notebook, we need to reduce the amount of training data created.  As such, we will work with the images located in the `nlmImageFileName` column.  The code for moving `rxvnavImageFileName` is still avaliable below.  Furthermore, we have changed the `path_from` variable to reflect the size folder as 300, as opposed to the originally selected 600.*\n",
    "\n",
    "***UPDATE_2:*** *Since our model reflected a 0.00% accuracy, we will change the folder to access down to 120 and only account for 4 medications total.*"
   ]
  },
  {
   "cell_type": "code",
   "execution_count": 16,
   "metadata": {},
   "outputs": [],
   "source": [
    "path_from = '../images/reference/120/'\n",
    "path_to = '../images/training_set/'"
   ]
  },
  {
   "cell_type": "markdown",
   "metadata": {},
   "source": [
    "In the following codes, we will iterate through `rxvnavImageFileName` and `nlmImageFileName` columns in `ref_lookup` data and look for the files listed.  When the file is found, it will be moved to the appropriate folder.  The aforementioned columns are different image types for the same medication, which effectively doubles the amount of training data we have to work with."
   ]
  },
  {
   "cell_type": "code",
   "execution_count": 17,
   "metadata": {},
   "outputs": [
    {
     "data": {
      "text/plain": [
       "8785"
      ]
     },
     "execution_count": 17,
     "metadata": {},
     "output_type": "execute_result"
    }
   ],
   "source": [
    "# how many files are in the source folder\n",
    "len(os.listdir(path_from))"
   ]
  },
  {
   "cell_type": "markdown",
   "metadata": {},
   "source": [
    "We can expect to look through a total of 8,785 files for our images to copy to their respective folders."
   ]
  },
  {
   "cell_type": "code",
   "execution_count": 18,
   "metadata": {},
   "outputs": [],
   "source": [
    "# # Sorting images by 'rxnavImageFileName'\n",
    "# for name in tqdm(ref_lookup['rxnavImageFileName']): # tqdm => progress bar to gauge time it takes to run\n",
    "#     folder_loc = ref_lookup.loc[ref_lookup['rxnavImageFileName'] == name, 'name'].iloc[0] +'/'\n",
    "#     final_destination = f'{path_to}{folder_loc}'\n",
    "   \n",
    "#     try:\n",
    "#         for file in os.listdir(path_from): \n",
    "#             if file.startswith(name):\n",
    "#                 shutil.copy(path_from + file, final_destination)\n",
    "#     except:\n",
    "#         pass"
   ]
  },
  {
   "cell_type": "code",
   "execution_count": 19,
   "metadata": {},
   "outputs": [
    {
     "name": "stderr",
     "output_type": "stream",
     "text": [
      "100%|██████████████████████████████████████████████████████████████████████████████| 4332/4332 [02:49<00:00, 25.62it/s]\n"
     ]
    }
   ],
   "source": [
    "# Sorting images by 'nlmImageFileName'\n",
    "for name in tqdm(ref_lookup['nlmImageFileName']):\n",
    "    folder_loc = ref_lookup.loc[ref_lookup['nlmImageFileName'] == name, 'name'].iloc[0] +'/'\n",
    "    final_destination = f'{path_to}{folder_loc}'\n",
    "   \n",
    "    try:\n",
    "        for file in os.listdir(path_from):\n",
    "            if file.startswith(name):\n",
    "                shutil.copy(path_from + file, final_destination)\n",
    "    except:\n",
    "        pass"
   ]
  },
  {
   "cell_type": "markdown",
   "metadata": {},
   "source": [
    "After running through the code, and given that the previous iteration missed 1,469 out of 8,784 images to move, we can expect to see that there are still a handful of images that were not copied over to the appropriate folders.  This is most likely due to possible errors not being addressed (intentional, as `try / except` has been placed in the code).  Similiar to above, we are pressed for time and, therefore, will ignore the errors for the time being.  Given more time, we will address each issues appropriately.  For the sake of arguement, we will proceed assuming that 4,332 (the number on the progres bar) images were copied over. "
   ]
  },
  {
   "cell_type": "markdown",
   "metadata": {},
   "source": [
    "---\n",
    "### 05. Image Conversion"
   ]
  },
  {
   "cell_type": "markdown",
   "metadata": {},
   "source": [
    "In this section we will convert all of the images into array, and ultimately combine them, so that our model can process it."
   ]
  },
  {
   "cell_type": "markdown",
   "metadata": {},
   "source": [
    "#### 05.01. Training Images"
   ]
  },
  {
   "cell_type": "code",
   "execution_count": 20,
   "metadata": {},
   "outputs": [],
   "source": [
    "# Instantiate where we will be pulling the images from\n",
    "data_directory = '../images/training_set/'\n",
    "\n",
    "# Instantiating a list of folder names to iterate through\n",
    "categories = os.listdir(data_directory)"
   ]
  },
  {
   "cell_type": "code",
   "execution_count": 21,
   "metadata": {},
   "outputs": [
    {
     "data": {
      "image/png": "[encoded data removed]",
      "text/plain": [
       "<Figure size 432x288 with 1 Axes>"
      ]
     },
     "metadata": {
      "needs_background": "light"
     },
     "output_type": "display_data"
    }
   ],
   "source": [
    "for category in categories:\n",
    "    # Instantiate path to each medication folder created\n",
    "    path = os.path.join(data_directory,category)\n",
    "    # Iterate over each image per folder\n",
    "    for img in os.listdir(path):\n",
    "        # Convert each image into an array\n",
    "        img_array = cv2.imread(os.path.join(path,img) ,cv2.IMREAD_COLOR)\n",
    "        new_array = cv2.resize(img_array, (120, 96))\n",
    "        plt.imshow(new_array)  # display image\n",
    "        \n",
    "        break  # we want to look at what everything will look like, so the 1st image will suffice\n",
    "    break"
   ]
  },
  {
   "cell_type": "markdown",
   "metadata": {},
   "source": [
    "(**Note**: *matplotlib displays color images using the RGB format vs OpenCV's BGR format.  The above pill image is displayed with the incorrect color format, but we only wanted to check that the function worked properly for what follows.*)"
   ]
  },
  {
   "cell_type": "code",
   "execution_count": 22,
   "metadata": {},
   "outputs": [
    {
     "data": {
      "text/plain": [
       "(96, 120, 3)"
      ]
     },
     "execution_count": 22,
     "metadata": {},
     "output_type": "execute_result"
    }
   ],
   "source": [
    "# Take a look at the shape of the array for the above image\n",
    "new_array.shape"
   ]
  },
  {
   "cell_type": "markdown",
   "metadata": {},
   "source": [
    "The image array will not be printed out, as it is (as shown above) a long array.  So now that we're familiar with the image, and what we can expect the array to look like, we will build out the function to include all images in each medication folder and well as combine them to feed the model.  We can expect to convert a total of 7,315 images (8,784 - 1,469)."
   ]
  },
  {
   "cell_type": "code",
   "execution_count": 23,
   "metadata": {},
   "outputs": [],
   "source": [
    "def create_training_data(file_path, n = -1):\n",
    "    \n",
    "    categories = os.listdir(file_path)\n",
    "    \n",
    "    if n != -1:\n",
    "        categories = categories[:n]\n",
    "\n",
    "    training_data = []\n",
    "    \n",
    "    for category in tqdm(categories):\n",
    "        path = os.path.join(file_path,category + '/')\n",
    "        # get the classification\n",
    "        classification_num = categories.index(category)\n",
    "\n",
    "        for img in os.listdir(path):\n",
    "            try:\n",
    "                # convert to array\n",
    "                img_array = cv2.imread(os.path.join(path,img) ,cv2.IMREAD_COLOR)\n",
    "                # resizing array to be more uniform\n",
    "                new_array = cv2.resize(img_array, (120, 96))\n",
    "                # add to training data\n",
    "                training_data.append([new_array, classification_num])\n",
    "            except:  \n",
    "                pass\n",
    "            \n",
    "    return training_data"
   ]
  },
  {
   "cell_type": "code",
   "execution_count": 24,
   "metadata": {},
   "outputs": [
    {
     "name": "stderr",
     "output_type": "stream",
     "text": [
      "100%|███████████████████████████████████████████████████████████████████████████████████| 4/4 [00:00<00:00, 148.52it/s]\n"
     ]
    },
    {
     "name": "stdout",
     "output_type": "stream",
     "text": [
      "Total files converted: 37\n"
     ]
    }
   ],
   "source": [
    "training_data = create_training_data('../images/training_set/')\n",
    "print(f'Total files converted: {len(training_data)}')"
   ]
  },
  {
   "cell_type": "markdown",
   "metadata": {},
   "source": [
    "Out of 4,332 images that were expected to be converted, only 3,643 images were - a 16% reduction.  As seems to be the recurring theme in this notebook `try / except` has been placed, due to the lack of time needed to properly address issues with the notebook."
   ]
  },
  {
   "cell_type": "markdown",
   "metadata": {},
   "source": [
    "***UPDATE:*** *Due to necessary changes in the pre-processing stage, we reduced the amount of images to convert down to 37.*"
   ]
  },
  {
   "cell_type": "code",
   "execution_count": 25,
   "metadata": {},
   "outputs": [
    {
     "name": "stdout",
     "output_type": "stream",
     "text": [
      "0\n",
      "0\n",
      "0\n",
      "0\n",
      "0\n"
     ]
    }
   ],
   "source": [
    "# Checking the first 5 images in our results\n",
    "for sample in training_data[:5]:\n",
    "    # Check the categories for each image\n",
    "    print(sample[1])"
   ]
  },
  {
   "cell_type": "markdown",
   "metadata": {},
   "source": [
    "We will randomize the order of our `training_data`, since we populated it sequencially (i.e. the first 5 images are classified under the same folder, since they all came from folder `0`)."
   ]
  },
  {
   "cell_type": "code",
   "execution_count": 26,
   "metadata": {},
   "outputs": [
    {
     "name": "stdout",
     "output_type": "stream",
     "text": [
      "3\n",
      "1\n",
      "0\n",
      "1\n",
      "0\n"
     ]
    }
   ],
   "source": [
    "random.shuffle(training_data)\n",
    "\n",
    "for sample in training_data[:5]:\n",
    "    print(sample[1])"
   ]
  },
  {
   "cell_type": "markdown",
   "metadata": {},
   "source": [
    "#### 05.02. Test Images"
   ]
  },
  {
   "cell_type": "markdown",
   "metadata": {},
   "source": [
    "In the above, we successfully converted the training images into arrays.  In the following section, we will convert the test images into arrays.  The images are located in the `./images/consumer/` folder."
   ]
  },
  {
   "cell_type": "code",
   "execution_count": 27,
   "metadata": {},
   "outputs": [
    {
     "name": "stdout",
     "output_type": "stream",
     "text": [
      "59416\n"
     ]
    }
   ],
   "source": [
    "print(len(os.listdir('../images/consumer/')))"
   ]
  },
  {
   "cell_type": "markdown",
   "metadata": {},
   "source": [
    "There are a total of 59,416 images that we will convert into arrays."
   ]
  },
  {
   "cell_type": "code",
   "execution_count": 28,
   "metadata": {},
   "outputs": [],
   "source": [
    "def create_testing_data(file_path, n = -1):\n",
    "    \n",
    "    images = os.listdir(file_path)\n",
    "    \n",
    "    if n != -1:\n",
    "        images = images[:n]\n",
    "\n",
    "    testing_data = []\n",
    "    \n",
    "    for img in tqdm(images):\n",
    "        try:\n",
    "            img_array = cv2.imread(os.path.join(file_path,img) ,cv2.IMREAD_COLOR)\n",
    "            new_array = cv2.resize(img_array, (125, 96))\n",
    "            classification_num = categories.index(category)\n",
    "            testing_data.append([new_array, classification_num])\n",
    "        except:  \n",
    "            pass\n",
    "            \n",
    "    return testing_data"
   ]
  },
  {
   "cell_type": "markdown",
   "metadata": {},
   "source": [
    "To ensure that we are properly testing out our model in the next notebook, we will only convert the first 100 images.  After we can validate the model, we will increase the test data size."
   ]
  },
  {
   "cell_type": "markdown",
   "metadata": {},
   "source": [
    "***UPDATE_2:*** *Since we reduced the training size of our model, we will increase the testing / validation dataset from 100 to 1,000 - since we are training with significantly less medications this time around.*"
   ]
  },
  {
   "cell_type": "code",
   "execution_count": 29,
   "metadata": {},
   "outputs": [
    {
     "name": "stderr",
     "output_type": "stream",
     "text": [
      "100%|██████████████████████████████████████████████████████████████████████████████| 1000/1000 [03:14<00:00,  4.28it/s]\n"
     ]
    },
    {
     "name": "stdout",
     "output_type": "stream",
     "text": [
      "Total files converted: 1000\n"
     ]
    }
   ],
   "source": [
    "testing_data = create_testing_data('../images/consumer/', 1_000)\n",
    "print(f'Total files converted: {len(testing_data)}')"
   ]
  },
  {
   "cell_type": "markdown",
   "metadata": {},
   "source": [
    "Seeing as that 1,000 images have been converted into arrays, we can move on to the next step."
   ]
  },
  {
   "cell_type": "markdown",
   "metadata": {},
   "source": [
    "---\n",
    "### 06. Saving Data"
   ]
  },
  {
   "cell_type": "markdown",
   "metadata": {},
   "source": [
    "In this final section, we will save down our `training_data` as serialized data using the `pickle` library.  This makes it more efficient (space-wise) as well as easier to access and reconstruct in the next notebook."
   ]
  },
  {
   "cell_type": "markdown",
   "metadata": {},
   "source": [
    "First, we must set up our X and y variables:"
   ]
  },
  {
   "cell_type": "code",
   "execution_count": 30,
   "metadata": {},
   "outputs": [],
   "source": [
    "# Instantiate our features\n",
    "X = []\n",
    "\n",
    "# Instantiate our labels\n",
    "y = []\n",
    "\n",
    "# Assign data to variables\n",
    "for features, labels in training_data:\n",
    "    X.append(features)\n",
    "    y.append(labels)\n",
    "\n",
    "# Convert to array\n",
    "X = np.array(X)\n",
    "y = np.array(y)\n",
    "z = np.array(testing_data)"
   ]
  },
  {
   "cell_type": "markdown",
   "metadata": {},
   "source": [
    "Now that our data is stored as arrays, we will save them down in the `/data` folder."
   ]
  },
  {
   "cell_type": "code",
   "execution_count": 31,
   "metadata": {},
   "outputs": [],
   "source": [
    "# Save down our variables\n",
    "np.save('../data/X_train', X, allow_pickle = True)\n",
    "np.save('../data/y_train', y, allow_pickle = True)\n",
    "np.save('../data/z_test', z, allow_pickle = True)"
   ]
  },
  {
   "cell_type": "markdown",
   "metadata": {},
   "source": [
    "---\n",
    "### 07. Observations"
   ]
  },
  {
   "cell_type": "markdown",
   "metadata": {},
   "source": [
    "The pre-processing steps taken in this notebook significantly reduced the amount of images available to setup from 8,784 down to 5,572 - a 36.5% reduction.  Most of the issues stem from three primary factors:\n",
    "\n",
    "- The naming convention used for each medication in the directory\n",
    "- Moving images to their appropriate folders / classification\n",
    "- Converting images into arrays\n",
    "\n",
    "\n",
    "Furthermore, we encountered issues with our model that needs further addressing, given the existence of **UPDATE_n**.\n",
    "\n",
    "- ***UPDATE_1:*** *Well, clearly we have reduced the initial 36.5% reduction even furthur due to OOM (Out of Memory) errors that we continually received in the CNN notebook.*\n",
    "\n",
    "- ***UPDATE_2*** *We further reduced the total amount of training due to our 0.00% accuracy score.*\n",
    "\n",
    "When we circle back to this notebook, with more time, we will address these issues - which would go a long way towards providing a full, robust data set for training.  Overall, we anticipate our modeling being able to identify certain medications with a high level of accuracy and other medications with a very low level of accuracy, given that it lacks the appropriate identifying details.\n",
    "\n",
    "With the pre-processing complete for the training data, we will move on to the next notebook in order to train our model with the data generated."
   ]
  },
  {
   "cell_type": "markdown",
   "metadata": {},
   "source": [
    "---"
   ]
  }
 ],
 "metadata": {
  "kernelspec": {
   "display_name": "Python 3",
   "language": "python",
   "name": "python3"
  },
  "language_info": {
   "codemirror_mode": {
    "name": "ipython",
    "version": 3
   },
   "file_extension": ".py",
   "mimetype": "text/x-python",
   "name": "python",
   "nbconvert_exporter": "python",
   "pygments_lexer": "ipython3",
   "version": "3.7.3"
  }
 },
 "nbformat": 4,
 "nbformat_minor": 4
}
